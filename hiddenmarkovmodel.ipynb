{
  "nbformat": 4,
  "nbformat_minor": 0,
  "metadata": {
    "colab": {
      "provenance": [],
      "authorship_tag": "ABX9TyNYGM8z7l93PoFST3oZ4rx8",
      "include_colab_link": true
    },
    "kernelspec": {
      "name": "python3",
      "display_name": "Python 3"
    },
    "language_info": {
      "name": "python"
    }
  },
  "cells": [
    {
      "cell_type": "markdown",
      "metadata": {
        "id": "view-in-github",
        "colab_type": "text"
      },
      "source": [
        "<a href=\"https://colab.research.google.com/github/GannojiSathvik/tensorflow/blob/main/hiddenmarkovmodel.ipynb\" target=\"_parent\"><img src=\"https://colab.research.google.com/assets/colab-badge.svg\" alt=\"Open In Colab\"/></a>"
      ]
    },
    {
      "cell_type": "code",
      "execution_count": 2,
      "metadata": {
        "colab": {
          "base_uri": "https://localhost:8080/"
        },
        "collapsed": true,
        "id": "7adFwpK9N-6a",
        "outputId": "8fe49e59-13a2-44d7-bfa0-3ffc1222b4e8"
      },
      "outputs": [
        {
          "output_type": "stream",
          "name": "stdout",
          "text": [
            "Colab only includes TensorFlow 2.x; %tensorflow_version has no effect.\n",
            "Requirement already satisfied: tensorflow_probability==0.8.0rc0 in /root/.local/lib/python3.11/site-packages (0.8.0rc0)\n",
            "Requirement already satisfied: six>=1.10.0 in /usr/local/lib/python3.11/dist-packages (from tensorflow_probability==0.8.0rc0) (1.17.0)\n",
            "Requirement already satisfied: numpy>=1.13.3 in /usr/local/lib/python3.11/dist-packages (from tensorflow_probability==0.8.0rc0) (1.26.4)\n",
            "Requirement already satisfied: decorator in /usr/local/lib/python3.11/dist-packages (from tensorflow_probability==0.8.0rc0) (4.4.2)\n",
            "Requirement already satisfied: cloudpickle==1.1.1 in /root/.local/lib/python3.11/site-packages (from tensorflow_probability==0.8.0rc0) (1.1.1)\n",
            "[3.        5.9999995 7.4999995 8.25      8.625001  8.812501  8.90625  ]\n"
          ]
        }
      ],
      "source": [
        "%tensorflow_version 2.x  # this line is not required unless you are in a notebook\n",
        "\n",
        "!pip install tensorflow_probability==0.8.0rc0 --user --upgrade\n",
        "\n",
        "import tensorflow_probability as tfp  # We are using a different module from tensorflow this time\n",
        "import tensorflow as tf\n",
        "\n",
        "\n",
        "tfd = tfp.distributions\n",
        "\n",
        "inital = tfd.Categorical(probs=[0.8,0.2])\n",
        "transtional = tfd.Categorical(probs=[[0.7,0.3],[0.2,0.8]])\n",
        "observation = tfd.Normal(loc=[0.,15.] ,scale = [5. ,10.])\n",
        "\n",
        "\n",
        "model = tfd.HiddenMarkovModel(\n",
        "\n",
        "                              initial_distribution=inital,\n",
        "                              transition_distribution=transtional,\n",
        "                              observation_distribution=observation,\n",
        "                              num_steps=7\n",
        ")\n",
        "\n",
        "\n",
        "\n",
        "mean = model.mean()\n",
        "\n",
        "with tf.compat.v1.Session() as sess:\n",
        "  print(mean.numpy())\n",
        "\n"
      ]
    }
  ]
}